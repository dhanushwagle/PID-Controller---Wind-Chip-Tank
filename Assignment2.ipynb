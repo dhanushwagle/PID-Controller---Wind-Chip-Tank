{
 "cells": [
  {
   "cell_type": "markdown",
   "metadata": {},
   "source": [
    "### TASK\n",
    "\n",
    "The starting point of the following tasks is this simulator of the chip tank (no controller is included in the simulator): sim_chiptank.py. The process model is as presented in Ch. 36.1 in the document Process ModelsPreview the document, but with the following difference: The control signal u [kg/s] sets the flow through feed screw (no feed screw gain is included in the simulator).\n",
    "\n",
    "The nominal wood-chip level setpoint is 10 m. The nominal wood-chip outflow (disturbance) is 25 kg/s. The maximum control signal is 50 kg/s, and the minimum is 0 kg/s (the control signal should should . The maximum level is 15 m, and the minimum is 0 m.\n",
    "\n",
    "#### 1. Implementation of a P (proportional) level controller:\n",
    "\n",
    "a. Enhance the simulator with a P controller including a manual control term, u_man, with an appriorpate value. (You may put the controller before (above) the process simulator in the simulation loop.) The setpoint should be plotted together with the process variable (level).\n",
    "\n",
    "b. Tune the P controller with the Ziegler-Nichols method. Is the stability of the control system acceptable with the P controller?\n",
    "\n",
    "c. What is the steady-state control error if the outflow changes from 25 to 30 kg/s?\n",
    "\n",
    "#### 2. Implementation of a PI level controller:\n",
    "\n",
    "a. Implement a PI controller instead of the P controller. The controller should have anti windup (you can limit the integral term between u_max and u_min using the numpy clip() function).\n",
    "\n",
    "b. Tune the PI controller with the Skogestad method. Is the stability of the control system acceptable with the PI controller?\n",
    "\n",
    "c. What is the steady-state control error if the outflow changes from 25 to 30 kg/s?\n",
    "\n",
    "#### 3. Stability of the control system: Assume PI control.\n",
    "\n",
    "a. Demonstrate that the control system becomes unstable if the time-delay in the control loop is too large (which may be due to a reduction of the conveyor belt speed). Specifically: Which time-delay makes the control system marginally stable (oscillatory with no damping)?\n",
    "\n",
    "b. Demonstrate that the control system becomes unstable if the cross-sectional area of the tank is too small (in general, the area may decrease if the walls are not straight). Specifically: Which area value makes the control system marginally stable (oscillatory with no damping)?\n"
   ]
  },
  {
   "cell_type": "code",
   "execution_count": null,
   "metadata": {},
   "outputs": [],
   "source": []
  }
 ],
 "metadata": {
  "kernelspec": {
   "display_name": "Python 3",
   "language": "python",
   "name": "python3"
  },
  "language_info": {
   "codemirror_mode": {
    "name": "ipython",
    "version": 3
   },
   "file_extension": ".py",
   "mimetype": "text/x-python",
   "name": "python",
   "nbconvert_exporter": "python",
   "pygments_lexer": "ipython3",
   "version": "3.7.7"
  }
 },
 "nbformat": 4,
 "nbformat_minor": 4
}
